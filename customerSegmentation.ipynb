{
 "cells": [
  {
   "cell_type": "code",
   "execution_count": null,
   "id": "94dc2cbc",
   "metadata": {},
   "outputs": [],
   "source": [
    "#imports\n",
    "import pandas as pd\n",
    "import seaborn as sns\n",
    "import matplotlib.pyplot as plt\n",
    "import math\n",
    "#importting pipeline things\n",
    "from sklearn.impute import SimpleImputer             \n",
    "from sklearn.preprocessing import OneHotEncoder, StandardScaler  \n",
    "from sklearn.pipeline import Pipeline                    \n",
    "from sklearn.compose import ColumnTransformer           \n",
    "from sklearn.model_selection import train_test_split\n",
    "#imports to test accraucy \n",
    "from sklearn.metrics import classification_report\n",
    "from sklearn.metrics import confusion_matrix, ConfusionMatrixDisplay\n",
    "from sklearn.ensemble import RandomForestClassifier"
   ]
  },
  {
   "cell_type": "code",
   "execution_count": null,
   "id": "4207004e",
   "metadata": {},
   "outputs": [],
   "source": [
    "#importing data\n",
    "dfOriginal =pd.read_csv('customerSegData.csv',encoding=\"ISO-8859-1\") \n",
    "print(dfOriginal.to_string())"
   ]
  }
 ],
 "metadata": {
  "kernelspec": {
   "display_name": "Python 3",
   "language": "python",
   "name": "python3"
  },
  "language_info": {
   "name": "python",
   "version": "3.13.2"
  }
 },
 "nbformat": 4,
 "nbformat_minor": 5
}
